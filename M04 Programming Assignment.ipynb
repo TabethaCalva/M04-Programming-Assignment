{
 "cells": [
  {
   "cell_type": "markdown",
   "id": "e3667190",
   "metadata": {},
   "source": [
    "11.1"
   ]
  },
  {
   "cell_type": "code",
   "execution_count": 7,
   "id": "0c72becb",
   "metadata": {},
   "outputs": [],
   "source": [
    "def hours():\n",
    "    print(\"Open 9-5 daily\")"
   ]
  },
  {
   "cell_type": "markdown",
   "id": "daf38768",
   "metadata": {},
   "source": [
    "import zoo\n",
    "zoo.hours()"
   ]
  },
  {
   "cell_type": "markdown",
   "id": "78852a8f",
   "metadata": {},
   "source": [
    "11.2"
   ]
  },
  {
   "cell_type": "markdown",
   "id": "ad45f6ea",
   "metadata": {},
   "source": [
    "import zoo as menagerie\n",
    "menagerie.hours()"
   ]
  },
  {
   "cell_type": "markdown",
   "id": "1913546f",
   "metadata": {},
   "source": [
    "16.8"
   ]
  },
  {
   "cell_type": "code",
   "execution_count": null,
   "id": "18c680dd",
   "metadata": {},
   "outputs": [],
   "source": [
    "import sqlalchemy as sa\n",
    "conn = sa.create_engine('sqlite://books.db')\n",
    "\n",
    "meta = sa.MetaData()\n",
    "booktable = Table('book')\n",
    "\n",
    "with conn.connection()"
   ]
  }
 ],
 "metadata": {
  "kernelspec": {
   "display_name": "Python 3 (ipykernel)",
   "language": "python",
   "name": "python3"
  },
  "language_info": {
   "codemirror_mode": {
    "name": "ipython",
    "version": 3
   },
   "file_extension": ".py",
   "mimetype": "text/x-python",
   "name": "python",
   "nbconvert_exporter": "python",
   "pygments_lexer": "ipython3",
   "version": "3.11.5"
  }
 },
 "nbformat": 4,
 "nbformat_minor": 5
}
